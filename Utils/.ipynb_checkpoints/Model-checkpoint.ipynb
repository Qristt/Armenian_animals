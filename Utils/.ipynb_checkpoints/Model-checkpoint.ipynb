{
 "cells": [
  {
   "cell_type": "code",
   "execution_count": null,
   "metadata": {},
   "outputs": [],
   "source": [
    "from PIL import Image\n",
    "from pathlib import Path\n",
    "import matplotlib.pyplot as plt\n",
    "import cv2\n",
    "\n",
    "plt.rcParams[\"savefig.bbox\"] = 'tight'"
   ]
  },
  {
   "cell_type": "code",
   "execution_count": null,
   "metadata": {},
   "outputs": [],
   "source": [
    "# Viewing a sample image \n",
    "image_path = \"C:\\Users\\egs-admin\\Desktop\\Armenian_animals\\Images\\training\\gull\\Armenian gull_4.jpeg\"\n",
    "image = cv2.imread(image_path, 1)\n",
    "image = cv2.cvtColor(image, cv2.COLOR_BGR2RGB)\n",
    "\n",
    "# Resizing an image\n",
    "image = cv2.resize(image, (160, 160), interpolation = cv2.INTER_AREA)\n",
    "\n",
    "plt.imshow(image)\n",
    "plt.show"
   ]
  },
  {
   "cell_type": "code",
   "execution_count": null,
   "metadata": {},
   "outputs": [],
   "source": [
    "import os\n",
    "import torch\n",
    "import numpy as np\n",
    "import torchvision\n",
    "import torchvision.transforms as transforms\n",
    "from torchvision.utils import save_image\n",
    "\n",
    "torch.manual_seed(0)"
   ]
  },
  {
   "cell_type": "code",
   "execution_count": null,
   "metadata": {},
   "outputs": [],
   "source": [
    "training_dataset_path = r'C:\\Users\\egs-admin\\Desktop\\Armenian_animals\\Images\\training'\n",
    "\n",
    "training_transforms = transforms.Compose([transforms.Resize((224,224)), transforms.ToTensor()])\n",
    "\n",
    "train_dataset = torchvision.datasets.ImageFolder(root = training_dataset_path, transform = training_transforms)\n",
    "train_loader = torch.utils.data.DataLoader(dataset = train_dataset, batch_size=32, shuffle=False)"
   ]
  },
  {
   "cell_type": "code",
   "execution_count": null,
   "metadata": {},
   "outputs": [],
   "source": [
    "def get_mean_and_std(loader):\n",
    "    mean = 0.\n",
    "    std = 0.\n",
    "    total_images_count = 0\n",
    "    for images, _ in loader:\n",
    "        image_count_in_a_batch = images.size(0)\n",
    "        images = images.view(image_count_in_a_batch, images.size(1), -1)\n",
    "        mean += images.mean(2).sum(0)\n",
    "        std += images.std(2).sum(0)\n",
    "        total_images_count += image_count_in_a_batch\n",
    "    \n",
    "    mean /= total_images_count\n",
    "    std /= total_images_count\n",
    "    \n",
    "    return mean, std\n",
    "\n",
    "\n",
    "train_mean, train_std = get_mean_and_std(train_loader)\n",
    "print(train_mean, train_std)"
   ]
  },
  {
   "cell_type": "code",
   "execution_count": null,
   "metadata": {},
   "outputs": [],
   "source": [
    "train_transforms = transforms.Compose([\n",
    "    transforms.Resize(size=(160,160)),\n",
    "    transforms.ColorJitter(brightness=(0.8,1.5), contrast = 0.25 ,saturation = 0.25, hue=0.25),\n",
    "    transforms.RandomHorizontalFlip(p=0.5),\n",
    "    transforms.RandomRotation(20),\n",
    "    transforms.RandomPerspective(distortion_scale=0.2, p=0.2),\n",
    "    transforms.ToTensor(),\n",
    "#     transforms.Normalize(mean=train_mean, std=train_std)\n",
    "])\n",
    "\n",
    "val_transforms = transforms.Compose([\n",
    "    transforms.Resize(size=(160,160)),\n",
    "    transforms.RandomHorizontalFlip(p=0.5),\n",
    "    transforms.RandomRotation(10),\n",
    "    transforms.RandomPerspective(distortion_scale=0.2, p=0.2),\n",
    "    transforms.ToTensor(),\n",
    "#     transforms.Normalize(mean=train_mean, std=train_std)\n",
    "])"
   ]
  },
  {
   "cell_type": "code",
   "execution_count": null,
   "metadata": {},
   "outputs": [],
   "source": [
    "validation_dataset_path = r'C:\\Users\\egs-admin\\Desktop\\Armenian_animals\\Images\\validation'\n",
    "\n",
    "validation_transforms = transforms.Compose([transforms.Resize((224,224)), transforms.ToTensor()])\n",
    "\n",
    "val_dataset = torchvision.datasets.ImageFolder(root = validation_dataset_path, transform = validation_transforms)\n",
    "val_loader = torch.utils.data.DataLoader(dataset = val_dataset, batch_size=32, shuffle=False)"
   ]
  },
  {
   "cell_type": "code",
   "execution_count": null,
   "metadata": {},
   "outputs": [],
   "source": [
    "def show_transformed_images(dataset):\n",
    "    loader = torch.utils.data.DataLoader(dataset, batch_size = 6, shuffle=True)\n",
    "    batch = next(iter(loader))\n",
    "    images, labels = batch\n",
    "    \n",
    "    grid = torchvision.utils.make_grid(images, nrow = 3)\n",
    "    plt.figure(figsize=(11,11))\n",
    "    plt.imshow(np.transpose(grid, (1,2,0)))\n",
    "    print('labels: ', labels)\n",
    "\n",
    "show_transformed_images(train_dataset)"
   ]
  },
  {
   "cell_type": "code",
   "execution_count": null,
   "metadata": {},
   "outputs": [],
   "source": [
    "show_transformed_images(val_dataset)"
   ]
  },
  {
   "cell_type": "code",
   "execution_count": null,
   "metadata": {},
   "outputs": [],
   "source": [
    "root_dir_name = 'C:\\Users\\egs-admin\\Desktop\\Armenian_animals\\augmented'\n",
    "os.mkdir(f'{root_dir_name}')\n",
    "os.mkdir(f'{root_dir_name}/train')\n",
    "os.mkdir(f'{root_dir_name}/train/gull')\n",
    "os.mkdir(f'{root_dir_name}/train/mouflon')\n",
    "os.mkdir(f'{root_dir_name}/val')\n",
    "os.mkdir(f'{root_dir_name}/val/gull')\n",
    "os.mkdir(f'{root_dir_name}/val/mouflon')"
   ]
  },
  {
   "cell_type": "code",
   "execution_count": null,
   "metadata": {},
   "outputs": [],
   "source": [
    "index_mouflon = 0\n",
    "index_gull = 0\n",
    "for _ in range(10):\n",
    "    for img, label in train_dataset:\n",
    "        if label == 0:\n",
    "            save_image(img, f'{root_dir_name}/train/mouflon/mouflon_{index_mouflon}.jpg')\n",
    "            index_mouflon += 1\n",
    "        elif label == 1:\n",
    "            save_image(img, f'{root_dir_name}/train/gull/gull_{index_gull}.jpg')\n",
    "            index_gull += 1"
   ]
  },
  {
   "cell_type": "code",
   "execution_count": null,
   "metadata": {},
   "outputs": [],
   "source": [
    "index_mouflon = 0\n",
    "index_gull = 0\n",
    "for _ in range(10):\n",
    "    for img, label in val_dataset:\n",
    "        if label == 0:\n",
    "            save_image(img, f'{root_dir_name}/val/mouflon/mouflon_{index_mouflon}.jpg')\n",
    "            index_mouflon += 1\n",
    "        elif label == 1:\n",
    "            save_image(img, f'{root_dir_name}/val/gull/gull_{index_gull}.jpg')\n",
    "            index_gull += 1"
   ]
  },
  {
   "cell_type": "code",
   "execution_count": null,
   "metadata": {},
   "outputs": [],
   "source": [
    "import pandas as pd\n",
    "from ultralytics import YOLO"
   ]
  },
  {
   "cell_type": "code",
   "execution_count": null,
   "metadata": {},
   "outputs": [],
   "source": [
    "model = YOLO('yolov8x-cls.pt')"
   ]
  },
  {
   "cell_type": "code",
   "execution_count": null,
   "metadata": {},
   "outputs": [],
   "source": [
    "results = model.train(data='C:\\Users\\egs-admin\\Desktop\\Armenian_animals\\Images', epochs=5, imgsz=160)"
   ]
  },
  {
   "cell_type": "code",
   "execution_count": null,
   "metadata": {},
   "outputs": [],
   "source": [
    "results = model.val()"
   ]
  }
 ],
 "metadata": {
  "language_info": {
   "name": "python"
  }
 },
 "nbformat": 4,
 "nbformat_minor": 2
}
